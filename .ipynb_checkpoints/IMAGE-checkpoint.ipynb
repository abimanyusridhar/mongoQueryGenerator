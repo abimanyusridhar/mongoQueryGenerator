{
 "cells": [
  {
   "cell_type": "markdown",
   "id": "6f15aa59-7670-4c21-9552-2baeb4c3cf32",
   "metadata": {},
   "source": [
    "# IMAGE PROCESSING\n"
   ]
  },
  {
   "cell_type": "code",
   "execution_count": 1,
   "id": "28bdef2b-9683-4007-9739-6216cf7bfa97",
   "metadata": {},
   "outputs": [],
   "source": [
    "import cv2\n",
    "import numpy as np"
   ]
  },
  {
   "cell_type": "code",
   "execution_count": 2,
   "id": "26416cc1-2143-4ca3-b2d2-ee54ae581349",
   "metadata": {},
   "outputs": [],
   "source": [
    "image=cv2.imread(\"C://Users//sridh//Pictures//20-03-2024 23_13_32.png\")"
   ]
  },
  {
   "cell_type": "code",
   "execution_count": 3,
   "id": "06f2a9dd-3503-4e7f-b36b-a8751b00d6ec",
   "metadata": {},
   "outputs": [
    {
     "data": {
      "text/plain": [
       "(1291, 1276, 3)"
      ]
     },
     "execution_count": 3,
     "metadata": {},
     "output_type": "execute_result"
    }
   ],
   "source": [
    "image.shape"
   ]
  },
  {
   "cell_type": "code",
   "execution_count": 4,
   "id": "84b850ed-6e80-4130-ab28-9080f0a1d0fe",
   "metadata": {},
   "outputs": [
    {
     "data": {
      "text/plain": [
       "array([[[21, 27,  8],\n",
       "        [21, 27,  8],\n",
       "        [21, 27,  8],\n",
       "        ...,\n",
       "        [91, 87, 86],\n",
       "        [91, 87, 86],\n",
       "        [91, 87, 86]],\n",
       "\n",
       "       [[21, 27,  8],\n",
       "        [21, 27,  8],\n",
       "        [21, 27,  8],\n",
       "        ...,\n",
       "        [91, 87, 86],\n",
       "        [91, 87, 86],\n",
       "        [91, 87, 86]],\n",
       "\n",
       "       [[19, 28,  8],\n",
       "        [19, 28,  8],\n",
       "        [19, 28,  8],\n",
       "        ...,\n",
       "        [92, 88, 87],\n",
       "        [92, 88, 87],\n",
       "        [92, 88, 87]],\n",
       "\n",
       "       ...,\n",
       "\n",
       "       [[15,  6,  2],\n",
       "        [15,  6,  2],\n",
       "        [15,  6,  2],\n",
       "        ...,\n",
       "        [18,  9,  0],\n",
       "        [18,  9,  0],\n",
       "        [18,  9,  0]],\n",
       "\n",
       "       [[15,  6,  2],\n",
       "        [15,  6,  2],\n",
       "        [15,  6,  2],\n",
       "        ...,\n",
       "        [18,  9,  0],\n",
       "        [18,  9,  0],\n",
       "        [18,  9,  0]],\n",
       "\n",
       "       [[16,  7,  3],\n",
       "        [16,  7,  3],\n",
       "        [16,  7,  3],\n",
       "        ...,\n",
       "        [19,  8,  0],\n",
       "        [19,  8,  0],\n",
       "        [19,  8,  0]]], dtype=uint8)"
      ]
     },
     "execution_count": 4,
     "metadata": {},
     "output_type": "execute_result"
    }
   ],
   "source": [
    "image"
   ]
  },
  {
   "cell_type": "code",
   "execution_count": 6,
   "id": "3e2432ed-9024-4c54-a0cb-8169a219c48f",
   "metadata": {},
   "outputs": [],
   "source": [
    "cv2.imshow(\"original_image\",image)\n",
    "cv2.waitKey(0)\n",
    "cv2.destroyAllWindows()\n"
   ]
  },
  {
   "cell_type": "markdown",
   "id": "cb8b82c1-4092-47c7-b29d-92724b7ced95",
   "metadata": {},
   "source": [
    "# croping of an image "
   ]
  },
  {
   "cell_type": "code",
   "execution_count": 11,
   "id": "3e683324-1cc8-4546-8020-34d6c6a0c4ec",
   "metadata": {},
   "outputs": [],
   "source": [
    "croped_image=image[200:1100, 300:1000]"
   ]
  },
  {
   "cell_type": "code",
   "execution_count": 12,
   "id": "4147a4d1-0e8d-4a30-ad33-b0e5af1285d2",
   "metadata": {},
   "outputs": [],
   "source": [
    "cv2.imshow(\"croped_image\",croped_image)\n",
    "cv2.waitKey(0)\n",
    "cv2.destroyAllWindows()\n"
   ]
  },
  {
   "cell_type": "markdown",
   "id": "e1e0ec0b-04ff-402b-84ee-e937ddf83316",
   "metadata": {},
   "source": [
    "### RESIZE OF THE IMAGE"
   ]
  },
  {
   "cell_type": "code",
   "execution_count": 13,
   "id": "7f2cb0ed-09e0-417f-b031-23efec1266d0",
   "metadata": {},
   "outputs": [],
   "source": [
    "resized_image=cv2.resize(image,(1000,1000))"
   ]
  },
  {
   "cell_type": "code",
   "execution_count": 14,
   "id": "596008fb-f91d-4147-a5bf-3ff8e7653484",
   "metadata": {},
   "outputs": [],
   "source": [
    "cv2.imshow(\"resized_image\",resized_image)\n",
    "cv2.waitKey(0)\n",
    "cv2.destroyAllWindows()"
   ]
  },
  {
   "cell_type": "code",
   "execution_count": 18,
   "id": "a038a60f-e9dc-430a-8673-95bcf16e32e1",
   "metadata": {},
   "outputs": [],
   "source": [
    "rotated_image = cv2.rotate(image, cv2.ROTATE_180)\n"
   ]
  },
  {
   "cell_type": "code",
   "execution_count": 19,
   "id": "e7100d88-78cd-46b6-b491-22978f153974",
   "metadata": {},
   "outputs": [],
   "source": [
    "cv2.imshow(\"rotated_image\",rotated_image)\n",
    "cv2.waitKey(0)\n",
    "cv2.destroyAllWindows()"
   ]
  },
  {
   "cell_type": "code",
   "execution_count": null,
   "id": "ebb0972a-21da-44da-ac5a-02173a77068a",
   "metadata": {},
   "outputs": [],
   "source": [
    "### flipping on image \n"
   ]
  },
  {
   "cell_type": "code",
   "execution_count": 21,
   "id": "4ae16cbf-6b84-4c68-9f96-82297bfb1ab8",
   "metadata": {},
   "outputs": [],
   "source": [
    "flipped_vertically = cv2.flip(image, 0)\n",
    "\n",
    "# Flip the image horizontally\n",
    "flipped_horizontally = cv2.flip(image, 1)\n",
    "\n",
    "# Flip the image both vertically and horizontally\n",
    "flipped_both = cv2.flip(image, -1)\n",
    "\n",
    "# Display the results\n",
    "cv2.imshow('Original Image', image)\n",
    "cv2.imshow('Flipped Vertically', flipped_vertically)\n",
    "cv2.imshow('Flipped Horizontally', flipped_horizontally)\n",
    "cv2.imshow('Flipped Both', flipped_both)\n",
    "\n",
    "cv2.waitKey(0)\n",
    "cv2.destroyAllWindows()"
   ]
  },
  {
   "cell_type": "code",
   "execution_count": null,
   "id": "7521a921-fcc2-4748-8303-93b9e79c0e7b",
   "metadata": {},
   "outputs": [],
   "source": []
  }
 ],
 "metadata": {
  "kernelspec": {
   "display_name": "Python 3 (ipykernel)",
   "language": "python",
   "name": "python3"
  },
  "language_info": {
   "codemirror_mode": {
    "name": "ipython",
    "version": 3
   },
   "file_extension": ".py",
   "mimetype": "text/x-python",
   "name": "python",
   "nbconvert_exporter": "python",
   "pygments_lexer": "ipython3",
   "version": "3.12.7"
  }
 },
 "nbformat": 4,
 "nbformat_minor": 5
}
